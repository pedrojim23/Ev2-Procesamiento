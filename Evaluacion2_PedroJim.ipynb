{
 "cells": [
  {
   "cell_type": "code",
   "execution_count": 8,
   "id": "fe10fdd0-e8bf-4b04-97b8-5b05795c58fd",
   "metadata": {},
   "outputs": [],
   "source": [
    "import numpy as np"
   ]
  },
  {
   "cell_type": "markdown",
   "id": "72e3b34c-5dcb-461c-b4bc-c12b5472c6f3",
   "metadata": {},
   "source": [
    "#### Parte 1: Creación y manipulación de arrays"
   ]
  },
  {
   "cell_type": "markdown",
   "id": "5bccafdd-3e1c-48fb-be55-258780d09bdb",
   "metadata": {},
   "source": [
    "##### Crear un array: Crea un array de 10 elementos enteros aleatorios entre 1 y 100. Imprime el array generado"
   ]
  },
  {
   "cell_type": "code",
   "execution_count": 4,
   "id": "121797f8-2440-4ef4-8df4-be39a44d75f4",
   "metadata": {},
   "outputs": [
    {
     "name": "stdout",
     "output_type": "stream",
     "text": [
      "Array generado: [71 21 24 32 93 67 55 92 38 66]\n"
     ]
    }
   ],
   "source": [
    "# Crear array de 10 elementos aleatorios entre 1 y 100\n",
    "array = np.random.randint(1, 101, size=10)\n",
    "# Imprimir el array\n",
    "print(\"Array generado:\", array)"
   ]
  },
  {
   "cell_type": "markdown",
   "id": "92628bff-ca36-4bb4-ac20-7c8abec00542",
   "metadata": {},
   "source": [
    "##### Reshape: A partir del array anterior, convierte este array en una matriz de 2x5."
   ]
  },
  {
   "cell_type": "code",
   "execution_count": 5,
   "id": "3b8a66e9-58b8-4484-9ed6-c9889828aaff",
   "metadata": {},
   "outputs": [
    {
     "name": "stdout",
     "output_type": "stream",
     "text": [
      "\n",
      "Matriz 2x5:\n",
      "[[71 21 24 32 93]\n",
      " [67 55 92 38 66]]\n"
     ]
    }
   ],
   "source": [
    "# Reshape a matriz 2x5\n",
    "matriz = array.reshape(2, 5)\n",
    "print(\"\\nMatriz 2x5:\")\n",
    "print(matriz)"
   ]
  },
  {
   "cell_type": "markdown",
   "id": "6b4f5879-51ce-49a2-8b43-ca9fa45ebea2",
   "metadata": {},
   "source": [
    "##### Indexación y slicing: De la matriz obtenida, extrae la primera fila y la última columna. Imprime ambos resultados por separado."
   ]
  },
  {
   "cell_type": "code",
   "execution_count": 6,
   "id": "2bd47ed4-b7ee-4177-9497-dfa7fc3c9600",
   "metadata": {},
   "outputs": [
    {
     "name": "stdout",
     "output_type": "stream",
     "text": [
      "\n",
      "Primera fila: [71 21 24 32 93]\n",
      "\n",
      "Última columna: [93 66]\n"
     ]
    }
   ],
   "source": [
    "# Extraer la primera fila\n",
    "primera_fila = matriz[0]  # o también matriz[0, :]\n",
    "print(\"\\nPrimera fila:\", primera_fila)\n",
    "# Extraer la última columna\n",
    "ultima_columna = matriz[:, -1]  # o también matriz[:, 4]\n",
    "print(\"\\nÚltima columna:\", ultima_columna)"
   ]
  },
  {
   "cell_type": "markdown",
   "id": "abecaf9f-fa41-4aef-85b0-c077fa977f2e",
   "metadata": {},
   "source": [
    "##### Modificación: Cambia el valor de los elementos en la segunda fila a ceros."
   ]
  },
  {
   "cell_type": "code",
   "execution_count": 7,
   "id": "1c9db9b2-cf89-4c5a-a211-144a030275cc",
   "metadata": {},
   "outputs": [
    {
     "name": "stdout",
     "output_type": "stream",
     "text": [
      "\n",
      "Matriz con segunda fila modificada:\n",
      "[[71 21 24 32 93]\n",
      " [ 0  0  0  0  0]]\n"
     ]
    }
   ],
   "source": [
    "# Cambiar segunda fila a ceros\n",
    "matriz[1] = 0  # o también matriz[1, :] = 0\n",
    "print(\"\\nMatriz con segunda fila modificada:\")\n",
    "print(matriz)"
   ]
  },
  {
   "cell_type": "markdown",
   "id": "93d8c605-47be-43fa-9336-cd83bbe38141",
   "metadata": {},
   "source": [
    "#### Parte 2: Operaciones básicas con NumPy"
   ]
  },
  {
   "cell_type": "markdown",
   "id": "d4b716ca-c147-418e-b48b-259305cebb63",
   "metadata": {},
   "source": [
    "##### Operaciones aritméticas"
   ]
  },
  {
   "cell_type": "code",
   "execution_count": 10,
   "id": "94592e16-f505-4d5c-8ec7-4650c8d25bd2",
   "metadata": {},
   "outputs": [
    {
     "name": "stdout",
     "output_type": "stream",
     "text": [
      "Array 1: [11 36 47 42 35]\n",
      "Array 2: [50 44 22 49 49]\n"
     ]
    }
   ],
   "source": [
    "# Crear dos arrays de 5 elementos aleatorios entre 1 y 50\n",
    "array1 = np.random.randint(1, 51, size=5)  # El límite superior es exclusivo\n",
    "array2 = np.random.randint(1, 51, size=5)\n",
    "\n",
    "print(\"Array 1:\", array1)\n",
    "print(\"Array 2:\", array2)"
   ]
  },
  {
   "cell_type": "code",
   "execution_count": 11,
   "id": "17bdd804-342d-4667-8426-15d656c653ee",
   "metadata": {},
   "outputs": [
    {
     "name": "stdout",
     "output_type": "stream",
     "text": [
      "\n",
      "Suma de los arrays: [61 80 69 91 84]\n",
      "Multiplicación de los arrays: [ 550 1584 1034 2058 1715]\n"
     ]
    }
   ],
   "source": [
    "# Suma de los arrays\n",
    "suma = array1 + array2\n",
    "print(\"\\nSuma de los arrays:\", suma)\n",
    "# Multiplicación de los arrays (elemento por elemento)\n",
    "multiplicacion = array1 * array2\n",
    "print(\"Multiplicación de los arrays:\", multiplicacion)"
   ]
  },
  {
   "cell_type": "code",
   "execution_count": 12,
   "id": "cda08be2-81bd-4b18-848a-02f2c89c3053",
   "metadata": {},
   "outputs": [
    {
     "name": "stdout",
     "output_type": "stream",
     "text": [
      "\n",
      "Estadísticas de la suma:\n",
      "Promedio: 77.00\n",
      "Desviación estándar: 10.71\n",
      "\n",
      "Estadísticas de la multiplicación:\n",
      "Promedio: 1388.20\n",
      "Desviación estándar: 533.26\n"
     ]
    }
   ],
   "source": [
    "# Calcular promedio (mean)\n",
    "promedio_suma = np.mean(suma)\n",
    "promedio_multiplicacion = np.mean(multiplicacion)\n",
    "\n",
    "# Calcular desviación estándar (std)\n",
    "desv_est_suma = np.std(suma)\n",
    "desv_est_multiplicacion = np.std(multiplicacion)\n",
    "\n",
    "print(\"\\nEstadísticas de la suma:\")\n",
    "print(f\"Promedio: {promedio_suma:.2f}\")\n",
    "print(f\"Desviación estándar: {desv_est_suma:.2f}\")\n",
    "\n",
    "print(\"\\nEstadísticas de la multiplicación:\")\n",
    "print(f\"Promedio: {promedio_multiplicacion:.2f}\")\n",
    "print(f\"Desviación estándar: {desv_est_multiplicacion:.2f}\")"
   ]
  },
  {
   "cell_type": "markdown",
   "id": "d65b744b-092d-42eb-9cc6-f80ccc9e38d7",
   "metadata": {},
   "source": [
    "##### Condiciones lógicas"
   ]
  },
  {
   "cell_type": "code",
   "execution_count": 13,
   "id": "6268e996-55de-45f8-9467-e122e67537b7",
   "metadata": {},
   "outputs": [
    {
     "name": "stdout",
     "output_type": "stream",
     "text": [
      "Array original: [0.17182067 0.76129735 0.84569252 0.05324698 0.77551135 0.72067344\n",
      " 0.62038757 0.29044914 0.91410241 0.87603093 0.8225049  0.28624608\n",
      " 0.45700179 0.56102247 0.64432815 0.30011605 0.82756329 0.57191118\n",
      " 0.21008023 0.18861037]\n"
     ]
    }
   ],
   "source": [
    "array = np.random.random(20)\n",
    "print(\"Array original:\", array)"
   ]
  },
  {
   "cell_type": "code",
   "execution_count": 14,
   "id": "de7e2425-fc83-4af0-ab66-1582a8e7a609",
   "metadata": {},
   "outputs": [
    {
     "name": "stdout",
     "output_type": "stream",
     "text": [
      "\n",
      "Array después del reemplazo:\n",
      "[0.         0.76129735 0.84569252 0.         0.77551135 0.72067344\n",
      " 0.62038757 0.         0.91410241 0.87603093 0.8225049  0.\n",
      " 0.         0.56102247 0.64432815 0.         0.82756329 0.57191118\n",
      " 0.         0.        ]\n"
     ]
    }
   ],
   "source": [
    "array[array < 0.5] = 0\n",
    "\n",
    "print(\"\\nArray después del reemplazo:\")\n",
    "print(array)"
   ]
  },
  {
   "cell_type": "code",
   "execution_count": 15,
   "id": "eea0dcc9-8cd8-4bd5-af82-18a89856a4a7",
   "metadata": {},
   "outputs": [
    {
     "name": "stdout",
     "output_type": "stream",
     "text": [
      "\n",
      "Array después del reemplazo:\n",
      "[0. 1. 1. 0. 1. 1. 1. 0. 1. 1. 1. 0. 0. 1. 1. 0. 1. 1. 0. 0.]\n"
     ]
    }
   ],
   "source": [
    "array[array > 0.5] = 1\n",
    "\n",
    "print(\"\\nArray después del reemplazo:\")\n",
    "print(array)"
   ]
  },
  {
   "cell_type": "markdown",
   "id": "0973f4f6-4992-490d-9e67-440abe36d862",
   "metadata": {},
   "source": [
    "##### Producto escalar"
   ]
  },
  {
   "cell_type": "code",
   "execution_count": 16,
   "id": "921aeab9-2933-42f7-844d-73642356da17",
   "metadata": {},
   "outputs": [
    {
     "name": "stdout",
     "output_type": "stream",
     "text": [
      "Matriz 1:\n",
      "[[9 2 5]\n",
      " [9 1 4]\n",
      " [7 4 4]]\n",
      "\n",
      "Matriz 2:\n",
      "[[7 3 1]\n",
      " [6 9 1]\n",
      " [2 7 7]]\n",
      "\n",
      "Producto escalar:\n",
      "[[85 80 46]\n",
      " [77 64 38]\n",
      " [81 85 39]]\n",
      "\n",
      "Demostración del cálculo para la posición [0,0]:\n",
      "(9 × 7) + (2 × 6) + (5 × 2) = 85\n"
     ]
    }
   ],
   "source": [
    "# Crear dos matrices 3x3 con números aleatorios enteros para mejor legibilidad\n",
    "matriz1 = np.random.randint(1, 10, size=(3, 3))\n",
    "matriz2 = np.random.randint(1, 10, size=(3, 3))\n",
    "\n",
    "print(\"Matriz 1:\")\n",
    "print(matriz1)\n",
    "print(\"\\nMatriz 2:\")\n",
    "print(matriz2)\n",
    "\n",
    "# Calcular el producto escalar usando np.dot\n",
    "producto_escalar = np.dot(matriz1, matriz2)\n",
    "# Alternativamente podríamos usar: matriz1 @ matriz2\n",
    "\n",
    "print(\"\\nProducto escalar:\")\n",
    "print(producto_escalar)\n",
    "\n",
    "# Mostrar el proceso de cálculo para la primera posición [0,0]\n",
    "print(\"\\nDemostración del cálculo para la posición [0,0]:\")\n",
    "print(f\"({matriz1[0,0]} × {matriz2[0,0]}) + ({matriz1[0,1]} × {matriz2[1,0]}) + ({matriz1[0,2]} × {matriz2[2,0]}) = {producto_escalar[0,0]}\")"
   ]
  },
  {
   "cell_type": "markdown",
   "id": "145c13dd-f732-467c-a56f-3b230ca45367",
   "metadata": {},
   "source": [
    "#### Parte 3: Análisis de datos con NumPy"
   ]
  },
  {
   "cell_type": "markdown",
   "id": "4b909145-e01f-4b53-9a25-935d183361f9",
   "metadata": {},
   "source": [
    "##### Matriz de datos"
   ]
  },
  {
   "cell_type": "code",
   "execution_count": 27,
   "id": "d92ce3ac-b3b8-4b82-9b3d-ccc3552c5015",
   "metadata": {},
   "outputs": [
    {
     "name": "stdout",
     "output_type": "stream",
     "text": [
      "Matriz de datos de personas:\n",
      "           Altura  Peso  Edad  Presión arterial\n",
      "Persona 1       3    12     8                 3\n",
      "Persona 2       1     3     5                15\n",
      "Persona 3      14     3     1                 5\n",
      "Persona 4      14     7     9                15\n",
      "Persona 5      15    10    13                19\n"
     ]
    }
   ],
   "source": [
    "import pandas as pd\n",
    "\n",
    "# Generar matriz de datos aleatorios\n",
    "datos = np.random.randint(1, 21, size=(5, 4))\n",
    "\n",
    "# Crear DataFrame con nombres descriptivos\n",
    "df = pd.DataFrame(\n",
    "    datos,\n",
    "    columns=['Altura', 'Peso', 'Edad', 'Presión arterial'],\n",
    "    index=['Persona 1', 'Persona 2', 'Persona 3', 'Persona 4', 'Persona 5']\n",
    ")\n",
    "\n",
    "print(\"Matriz de datos de personas:\")\n",
    "print(df)\n"
   ]
  },
  {
   "cell_type": "markdown",
   "id": "a8a2d1bb-d15b-45b0-9563-ea2ed944e307",
   "metadata": {},
   "source": [
    "##### Estadísticas"
   ]
  },
  {
   "cell_type": "code",
   "execution_count": 28,
   "id": "ef2e9711-62d0-4485-8201-2480979b8b5b",
   "metadata": {},
   "outputs": [
    {
     "name": "stdout",
     "output_type": "stream",
     "text": [
      "Media de cada columna:\n",
      "Altura               9.4\n",
      "Peso                 7.0\n",
      "Edad                 7.2\n",
      "Presión arterial    11.4\n",
      "dtype: float64\n"
     ]
    }
   ],
   "source": [
    "# Calcular la media de cada columna\n",
    "media_columnas = df.mean()\n",
    "\n",
    "print(\"Media de cada columna:\")\n",
    "print(media_columnas)\n"
   ]
  },
  {
   "cell_type": "code",
   "execution_count": 29,
   "id": "f4ef5b0d-6e7b-4b0c-9db9-53a1ba489a6c",
   "metadata": {},
   "outputs": [
    {
     "name": "stdout",
     "output_type": "stream",
     "text": [
      "Valor máximo de cada fila:\n",
      "Persona 1    12\n",
      "Persona 2    15\n",
      "Persona 3    14\n",
      "Persona 4    15\n",
      "Persona 5    19\n",
      "dtype: int32\n",
      "\n",
      "Valor mínimo de cada fila:\n",
      "Persona 1     3\n",
      "Persona 2     1\n",
      "Persona 3     1\n",
      "Persona 4     7\n",
      "Persona 5    10\n",
      "dtype: int32\n"
     ]
    }
   ],
   "source": [
    "# Encontrar el valor máximo de cada fila\n",
    "max_filas = df.max(axis=1)\n",
    "\n",
    "# Encontrar el valor mínimo de cada fila\n",
    "min_filas = df.min(axis=1)\n",
    "\n",
    "print(\"Valor máximo de cada fila:\")\n",
    "print(max_filas)\n",
    "\n",
    "print(\"\\nValor mínimo de cada fila:\")\n",
    "print(min_filas)\n"
   ]
  },
  {
   "cell_type": "code",
   "execution_count": 30,
   "id": "b13b26fd-f211-44db-9be5-10e7da9acfe1",
   "metadata": {},
   "outputs": [
    {
     "name": "stdout",
     "output_type": "stream",
     "text": [
      "DataFrame ordenado por 'Peso':\n",
      "           Altura  Peso  Edad  Presión arterial\n",
      "Persona 2       1     3     5                15\n",
      "Persona 3      14     3     1                 5\n",
      "Persona 4      14     7     9                15\n",
      "Persona 5      15    10    13                19\n",
      "Persona 1       3    12     8                 3\n"
     ]
    }
   ],
   "source": [
    "# Ordenar las filas según los valores de la columna \"Peso\"\n",
    "df_ordenado = df.sort_values(by='Peso')\n",
    "\n",
    "print(\"DataFrame ordenado por 'Peso':\")\n",
    "print(df_ordenado)\n"
   ]
  },
  {
   "cell_type": "code",
   "execution_count": null,
   "id": "68043913-fbbe-4bc5-86eb-7ee917d89733",
   "metadata": {},
   "outputs": [],
   "source": []
  }
 ],
 "metadata": {
  "kernelspec": {
   "display_name": "Python 3 (ipykernel)",
   "language": "python",
   "name": "python3"
  },
  "language_info": {
   "codemirror_mode": {
    "name": "ipython",
    "version": 3
   },
   "file_extension": ".py",
   "mimetype": "text/x-python",
   "name": "python",
   "nbconvert_exporter": "python",
   "pygments_lexer": "ipython3",
   "version": "3.12.5"
  }
 },
 "nbformat": 4,
 "nbformat_minor": 5
}
